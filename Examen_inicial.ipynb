{
 "cells": [
  {
   "cell_type": "markdown",
   "source": [
    "# Examen de Diagnóstico\r\n",
    "Resuelve los siguientes problemas según las indicaciones"
   ],
   "metadata": {}
  },
  {
   "cell_type": "markdown",
   "source": [
    " ## 1. Utiliza la función print para imprimir todos los tipos de datos que recurdes"
   ],
   "metadata": {}
  },
  {
   "cell_type": "code",
   "execution_count": null,
   "source": [
    "# Escribe tu código aquí\r\n"
   ],
   "outputs": [],
   "metadata": {}
  },
  {
   "cell_type": "markdown",
   "source": [
    "## 2. Realiza un algoritmo que de acuerdo a una edad proporcionada determine cuánto será el costo de entrada para un zoológico de acuerdo a la siguiente tabla:\r\n",
    "|   Edad   | Costo de entrada |\r\n",
    "|:--------:|:----------------:|\r\n",
    "|    0-5   |       1 USD      |\r\n",
    "|   6-10   |       3 USD      |\r\n",
    "|   11-40  |       5 USD      |\r\n",
    "| 41 a más |       4USD       |"
   ],
   "metadata": {}
  },
  {
   "cell_type": "code",
   "execution_count": null,
   "source": [
    "# Escribe tu código aquí"
   ],
   "outputs": [],
   "metadata": {}
  },
  {
   "cell_type": "markdown",
   "source": [
    "## 3. Pide un nombre en un bucle infinito y muestra el mensaje \"Puede pasar\" mientras que el nombre proporcionado sea diferente de Pedro"
   ],
   "metadata": {}
  },
  {
   "cell_type": "code",
   "execution_count": null,
   "source": [
    "# Escribe tu código aquí"
   ],
   "outputs": [],
   "metadata": {}
  },
  {
   "cell_type": "markdown",
   "source": [
    "## 4. Escribe un algoritmo que te pida un número e imprima la tabla de multiplicar del mismo desde el 1 al 12"
   ],
   "metadata": {}
  },
  {
   "cell_type": "code",
   "execution_count": null,
   "source": [
    "# Escribe tu código aquí"
   ],
   "outputs": [],
   "metadata": {}
  },
  {
   "cell_type": "markdown",
   "source": [
    "## 5. Crea un algortimo que pida una serie de alimentos y los vaya agregando a una lista hasta que el usuario digite \"x\", muestra la lsita al final con numeración al inicio de cada item"
   ],
   "metadata": {}
  },
  {
   "cell_type": "markdown",
   "source": [],
   "metadata": {}
  },
  {
   "cell_type": "code",
   "execution_count": 1,
   "source": [
    "# Escribe tu código aquí\r\n",
    "compras = []\r\n",
    "producto = input(\"Ingrese el nombre del producto: \")\r\n",
    "while producto != \"x\":\r\n",
    "    compras.append(producto)\r\n",
    "    producto = input(\"Ingrese el nombre del producto: \")\r\n",
    "for i in range(len(compras)):\r\n",
    "    print(f'{i+1} {compras[i]}')\r\n"
   ],
   "outputs": [
    {
     "output_type": "stream",
     "name": "stdout",
     "text": [
      "1 manzanas\n",
      "2 peras\n",
      "3 palta\n",
      "4 mani\n"
     ]
    }
   ],
   "metadata": {}
  },
  {
   "cell_type": "markdown",
   "source": [
    "## 6. Escribe un algortimo que pida una divisa por string y retorne el precio de tipo de cambio, deberás utilizar diccionarios"
   ],
   "metadata": {}
  },
  {
   "cell_type": "code",
   "execution_count": 2,
   "source": [
    "# Escribe tu código aquí\r\n",
    "divisas= {'dolares':3.14, 'euro': 4.12}\r\n",
    "divisa=input('Ingrese la moneda: ')\r\n",
    "print(divisas[divisa])"
   ],
   "outputs": [
    {
     "output_type": "stream",
     "name": "stdout",
     "text": [
      "3.14\n"
     ]
    }
   ],
   "metadata": {}
  },
  {
   "cell_type": "markdown",
   "source": [
    "## 7. En la lista numeros comprueba en una sola linea de codigo si el número 3 se encuentra en la lista"
   ],
   "metadata": {}
  },
  {
   "cell_type": "code",
   "execution_count": null,
   "source": [
    "import random as rd\r\n",
    "numeros = []\r\n",
    "for i in range(1, 11):\r\n",
    "    numeros.append(rd.randint(1, 20))\r\n",
    "print(numeros)\r\n",
    "# Escribe tu código aquí\r\n"
   ],
   "outputs": [],
   "metadata": {}
  },
  {
   "cell_type": "markdown",
   "source": [
    "## 8. Crea una lista de números pares de 5 a 20 en una sola línea de código"
   ],
   "metadata": {}
  },
  {
   "cell_type": "code",
   "execution_count": null,
   "source": [
    "# Escribe tu código aquí"
   ],
   "outputs": [],
   "metadata": {}
  },
  {
   "cell_type": "markdown",
   "source": [
    "## 9. Crea una función que reciba parámetros indeterminados y los imprima en pantalla"
   ],
   "metadata": {}
  },
  {
   "cell_type": "code",
   "execution_count": null,
   "source": [
    "# Escribe tu código aquí"
   ],
   "outputs": [],
   "metadata": {}
  },
  {
   "cell_type": "markdown",
   "source": [
    "## 10. Crea una lista de los cubos de los números hasta el 5, utilizando listas por comprensión"
   ],
   "metadata": {}
  },
  {
   "cell_type": "code",
   "execution_count": null,
   "source": [
    "# Escribe tu código aquí"
   ],
   "outputs": [],
   "metadata": {}
  }
 ],
 "metadata": {
  "orig_nbformat": 4,
  "language_info": {
   "name": "python",
   "version": "3.8.6",
   "mimetype": "text/x-python",
   "codemirror_mode": {
    "name": "ipython",
    "version": 3
   },
   "pygments_lexer": "ipython3",
   "nbconvert_exporter": "python",
   "file_extension": ".py"
  },
  "kernelspec": {
   "name": "python3",
   "display_name": "Python 3.8.6 64-bit"
  },
  "interpreter": {
   "hash": "0ac15a147627136cb9ee645ddc0d2716b9382deefdd79cd4420bc8b8695e236d"
  }
 },
 "nbformat": 4,
 "nbformat_minor": 2
}